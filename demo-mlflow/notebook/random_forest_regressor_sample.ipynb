{
 "cells": [
  {
   "cell_type": "code",
   "execution_count": 1,
   "id": "75e05578-1584-43e6-b313-4b59943b1859",
   "metadata": {},
   "outputs": [],
   "source": [
    "import mlflow\n",
    "\n",
    "from sklearn.model_selection import train_test_split\n",
    "from sklearn.datasets import load_diabetes\n",
    "from sklearn.ensemble import RandomForestRegressor"
   ]
  },
  {
   "cell_type": "code",
   "execution_count": 2,
   "id": "e23d207d-a824-4f06-b857-6e8afe3f5b0f",
   "metadata": {},
   "outputs": [],
   "source": [
    "mlflow.set_tracking_uri('http://mlflow-web:5000')"
   ]
  },
  {
   "cell_type": "code",
   "execution_count": 3,
   "id": "d28ba067-8ad7-4e70-862c-946a187c56eb",
   "metadata": {},
   "outputs": [
    {
     "data": {
      "text/plain": [
       "<Experiment: artifact_location='s3://mlflow/1', creation_time=1728707349003, experiment_id='1', last_update_time=1728707349003, lifecycle_stage='active', name='experiment_diabetes', tags={}>"
      ]
     },
     "execution_count": 3,
     "metadata": {},
     "output_type": "execute_result"
    }
   ],
   "source": [
    "experiment_name = \"experiment_diabetes\"\n",
    "mlflow.set_experiment(experiment_name)"
   ]
  },
  {
   "cell_type": "code",
   "execution_count": 4,
   "id": "6022b32e-35da-4881-a8c9-40860dad5798",
   "metadata": {},
   "outputs": [
    {
     "name": "stderr",
     "output_type": "stream",
     "text": [
      "2024/10/12 04:31:35 INFO mlflow.tracking.fluent: Autologging successfully enabled for sklearn.\n"
     ]
    }
   ],
   "source": [
    "mlflow.autolog()"
   ]
  },
  {
   "cell_type": "code",
   "execution_count": 5,
   "id": "e7253be4-6428-4c97-b5d1-bc3168be6d27",
   "metadata": {},
   "outputs": [
    {
     "name": "stderr",
     "output_type": "stream",
     "text": [
      "2024/10/12 04:31:35 INFO mlflow.utils.autologging_utils: Created MLflow autologging run with ID 'cad2bbe3c43344628cecb4b5d5d844a3', which will track hyperparameters, performance metrics, model artifacts, and lineage information for the current sklearn workflow\n",
      "2024/10/12 04:31:38 INFO mlflow.tracking._tracking_service.client: 🏃 View run abrasive-bee-206 at: http://mlflow-web:5000/#/experiments/1/runs/cad2bbe3c43344628cecb4b5d5d844a3.\n",
      "2024/10/12 04:31:38 INFO mlflow.tracking._tracking_service.client: 🧪 View experiment at: http://mlflow-web:5000/#/experiments/1.\n"
     ]
    }
   ],
   "source": [
    "db = load_diabetes()\n",
    "X_train, X_test, y_train, y_test = train_test_split(db.data, db.target)\n",
    "\n",
    "# Create and train models.\n",
    "rf = RandomForestRegressor(n_estimators=100, max_depth=5, max_features=3)\n",
    "rf.fit(X_train, y_train)\n",
    "\n",
    "# Use the model to make predictions on the test dataset.\n",
    "predictions = rf.predict(X_test)"
   ]
  },
  {
   "cell_type": "code",
   "execution_count": 6,
   "id": "3f43109e-313d-4491-92ef-7c48e7360048",
   "metadata": {},
   "outputs": [
    {
     "data": {
      "text/plain": [
       "array([182.16491821, 206.57352333, 114.98458761, 143.33207144,\n",
       "       221.01178122, 148.88657476, 196.0993274 , 109.39718818,\n",
       "       195.72075015,  85.29016468, 115.71627526, 133.06292168,\n",
       "       153.52168572,  94.33077543, 121.9277112 , 202.80958601,\n",
       "       173.31870945, 117.33316685, 101.05051902, 117.51533153,\n",
       "       236.71949558, 176.74210169, 127.60679418, 204.07754354,\n",
       "       200.48273272, 185.29784473, 145.78540399,  86.06537486,\n",
       "        86.72991777, 131.84508507, 183.38489811, 164.24743235,\n",
       "       168.1319828 , 151.81281801, 123.28514835,  98.32404446,\n",
       "       107.88978251,  97.6287957 , 212.04221129, 232.77134015,\n",
       "        89.08655448, 187.80531998, 105.27522835, 168.75262168,\n",
       "       128.24329184, 169.46239416, 227.94840008, 173.67022748,\n",
       "       123.73602017, 113.2661827 , 127.27316029, 106.20718082,\n",
       "       168.74575989, 201.91383595, 148.47862462,  89.07346928,\n",
       "        93.1626849 ,  81.52368879, 107.08748746, 181.76707063,\n",
       "       264.34232417, 170.78812087, 122.56028809, 137.12986522,\n",
       "       102.77540336, 213.91035241, 155.3228698 , 191.30708679,\n",
       "        90.67805753, 188.75120628, 114.18728255, 186.63134222,\n",
       "       226.4077252 , 112.68923792, 157.81024749, 210.55597036,\n",
       "       172.18501572, 138.20108474, 211.21415249, 119.2057901 ,\n",
       "       182.75246061, 103.46031816, 207.62432792, 176.58171313,\n",
       "       175.68436715, 108.50931749, 209.23500864, 211.126961  ,\n",
       "       101.36148852, 227.83549135, 162.26271134, 104.40897621,\n",
       "       113.78521777, 215.64690636, 118.63139667, 111.70627854,\n",
       "       216.07519045, 159.12167906, 256.23771409, 103.89492422,\n",
       "        96.97695077, 121.3417666 , 173.22488501, 138.71540996,\n",
       "        82.3503889 , 154.97393585, 140.5532833 , 100.41528967,\n",
       "       105.22114655,  88.18806939,  89.36395199])"
      ]
     },
     "execution_count": 6,
     "metadata": {},
     "output_type": "execute_result"
    }
   ],
   "source": [
    "predictions"
   ]
  },
  {
   "cell_type": "code",
   "execution_count": null,
   "id": "a2e54dbf-62f7-4bc7-9afd-22b4eef470c4",
   "metadata": {},
   "outputs": [],
   "source": []
  },
  {
   "cell_type": "code",
   "execution_count": null,
   "id": "f1a24e32-1086-4004-b7dc-117d4ebcbed8",
   "metadata": {},
   "outputs": [],
   "source": []
  }
 ],
 "metadata": {
  "kernelspec": {
   "display_name": "Python 3 (ipykernel)",
   "language": "python",
   "name": "python3"
  },
  "language_info": {
   "codemirror_mode": {
    "name": "ipython",
    "version": 3
   },
   "file_extension": ".py",
   "mimetype": "text/x-python",
   "name": "python",
   "nbconvert_exporter": "python",
   "pygments_lexer": "ipython3",
   "version": "3.11.6"
  }
 },
 "nbformat": 4,
 "nbformat_minor": 5
}

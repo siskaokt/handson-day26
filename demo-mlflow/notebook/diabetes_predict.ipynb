{
 "cells": [
  {
   "cell_type": "code",
   "execution_count": 1,
   "id": "909bc397-d15c-427d-9ecf-142e81a9a7dd",
   "metadata": {},
   "outputs": [],
   "source": [
    "import mlflow\n",
    "\n",
    "from sklearn.model_selection import train_test_split\n",
    "from sklearn.datasets import load_diabetes\n"
   ]
  },
  {
   "cell_type": "code",
   "execution_count": 2,
   "id": "89658a66-4176-4b1c-b6ce-77ac1cb1de6d",
   "metadata": {},
   "outputs": [],
   "source": [
    "mlflow.set_tracking_uri('http://mlflow-web:5000')"
   ]
  },
  {
   "cell_type": "code",
   "execution_count": 3,
   "id": "4a8ebab3-e95c-4082-9dcc-b7f1de869df1",
   "metadata": {},
   "outputs": [
    {
     "data": {
      "application/vnd.jupyter.widget-view+json": {
       "model_id": "8813ba5d7fd1497884bd339b2a6ed3e4",
       "version_major": 2,
       "version_minor": 0
      },
      "text/plain": [
       "Downloading artifacts:   0%|          | 0/5 [00:00<?, ?it/s]"
      ]
     },
     "metadata": {},
     "output_type": "display_data"
    },
    {
     "name": "stdout",
     "output_type": "stream",
     "text": [
      "[127.62847171  93.47648007 143.45188746 112.94628365 173.83157578\n",
      " 100.03894801 166.60198234 238.62552899 198.14426219 239.73214235\n",
      " 276.24936314 150.39123485 254.91497229 176.40747161 119.70084994\n",
      " 191.93959436 220.44839204  95.24248304 207.88719027 220.29720378\n",
      " 218.91690208 199.17334238 169.97650145 190.02612457  84.70492473\n",
      " 162.47018049 141.21748997 239.42869947 220.03256187  76.05277359\n",
      " 132.94264564 166.94756802  99.82729351 187.7831858  196.84070918\n",
      " 102.47535179 109.04894472 185.78136111 233.81494672 159.99068183\n",
      " 135.05310287 207.12180809 160.09827252 251.78575871  94.73361727\n",
      " 122.65399812 171.01943968  89.09259821 209.83920468 120.73279258\n",
      " 147.87547173 168.50942005  96.59575558 232.90860952 122.12654498\n",
      " 194.92638657 107.41791534 142.09675645 108.35982905 151.00082865\n",
      " 163.95032045  91.0516579  207.186077   231.79052715  81.42598325\n",
      " 183.81709407 188.45608876  99.30418035 231.97853777 140.10947925\n",
      " 187.39820414 179.83152867  86.42565939 267.96255048 198.6657035\n",
      " 187.15538787  70.25540712 186.31983872 100.13287955  96.09532243\n",
      " 155.33780347  94.19691141  73.79447527 187.48194866 171.36409655\n",
      "  96.61876469 234.25263962 165.37963363 159.83016404  82.59271279\n",
      " 232.81731944 235.29926561 169.43655316 262.27113029 185.53814668\n",
      " 236.75399299 147.69846824 131.7854173  154.594589   174.55164994\n",
      " 172.17189583 133.87041891 237.30299899 156.01079745 105.39550605\n",
      " 111.95231663  90.31243221 105.03549783 238.68332031 244.34764052\n",
      " 216.88907227]\n"
     ]
    }
   ],
   "source": [
    "db = load_diabetes()\n",
    "X_train, X_test, y_train, y_test = train_test_split(db.data, db.target)\n",
    "\n",
    "model_name = \"Diabetes Model\"\n",
    "# stage = \"Production\"\n",
    "# model = mlflow.sklearn.load_model(model_uri=f\"models:/{model_name}/{stage}\")\n",
    "model = mlflow.sklearn.load_model(model_uri=f\"models:/{model_name}/1\")\n",
    "predictions = model.predict(X_test)\n",
    "print(predictions)"
   ]
  },
  {
   "cell_type": "code",
   "execution_count": null,
   "id": "d6091e29-3979-476f-9ea6-2116a2f2e994",
   "metadata": {},
   "outputs": [],
   "source": []
  },
  {
   "cell_type": "code",
   "execution_count": null,
   "id": "56d6d408-0fd1-45bd-b476-fd1293ffc652",
   "metadata": {},
   "outputs": [],
   "source": []
  },
  {
   "cell_type": "code",
   "execution_count": null,
   "id": "5985d176-50c8-44e1-9b10-90c53a1c0684",
   "metadata": {},
   "outputs": [],
   "source": []
  }
 ],
 "metadata": {
  "kernelspec": {
   "display_name": "Python 3 (ipykernel)",
   "language": "python",
   "name": "python3"
  },
  "language_info": {
   "codemirror_mode": {
    "name": "ipython",
    "version": 3
   },
   "file_extension": ".py",
   "mimetype": "text/x-python",
   "name": "python",
   "nbconvert_exporter": "python",
   "pygments_lexer": "ipython3",
   "version": "3.11.6"
  }
 },
 "nbformat": 4,
 "nbformat_minor": 5
}
